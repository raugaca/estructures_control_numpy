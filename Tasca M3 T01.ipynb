{
 "cells": [
  {
   "cell_type": "markdown",
   "id": "25f35ba5",
   "metadata": {},
   "source": [
    "# Exercici 1\n",
    "#### Crea una funció que donat un Array d’una dimensió, et faci un resum estadístic bàsic de les dades. Si detecta que l’array té més d’una dimensió, ha de mostrar un missatge d’error."
   ]
  },
  {
   "cell_type": "code",
   "execution_count": 8,
   "id": "4d5b1a96",
   "metadata": {},
   "outputs": [],
   "source": [
    "import numpy as np\n",
    "from statistics import mode\n",
    "\n",
    "def resumDadesArray(matriz):\n",
    "    if matriz.ndim>1:\n",
    "        print('Error: La matriu introduïda és de més d´una dimensió.')\n",
    "    else:\n",
    "        print('suma: ', matriz.sum()) # suma\n",
    "        print('minimo: ', matriz.min()) # minimo\n",
    "        print('maximo: ', matriz.max()) # maximo\n",
    "        print('mediana: ', np.median(matriz)) # mediana\n",
    "        print('media: ', matriz.mean()) # media\n",
    "        print('moda: ', mode(matriz)) # moda\n",
    "        print('desviacion estandar: ', np.std(matriz)) #desviación estandar\n",
    "        print('varianza: ', np.var(matriz)) #varianza\n"
   ]
  },
  {
   "cell_type": "code",
   "execution_count": 9,
   "id": "c83f9ee3",
   "metadata": {},
   "outputs": [],
   "source": [
    "mat1= np.array([[1, 5, 3, 4, 5, 6, 7],\n",
    "                  [1, 5, 3, 4, 5, 6, 7]])"
   ]
  },
  {
   "cell_type": "code",
   "execution_count": 10,
   "id": "e5f85ecd",
   "metadata": {},
   "outputs": [
    {
     "name": "stdout",
     "output_type": "stream",
     "text": [
      "Error: La matriu introduïda és de més d´una dimensió.\n"
     ]
    }
   ],
   "source": [
    "resumDadesArray(mat1)"
   ]
  },
  {
   "cell_type": "code",
   "execution_count": 14,
   "id": "52596eba",
   "metadata": {},
   "outputs": [],
   "source": [
    "mat2= np.array([1, 5, 3, 4, 5, 6, 7])"
   ]
  },
  {
   "cell_type": "code",
   "execution_count": 15,
   "id": "2f069eab",
   "metadata": {},
   "outputs": [
    {
     "name": "stdout",
     "output_type": "stream",
     "text": [
      "suma:  31\n",
      "minimo:  1\n",
      "maximo:  7\n",
      "mediana:  5.0\n",
      "media:  4.428571428571429\n",
      "moda:  5\n",
      "desviacion estandar:  1.840585532389304\n",
      "varianza:  3.387755102040817\n"
     ]
    }
   ],
   "source": [
    "resumDadesArray(mat2)"
   ]
  },
  {
   "cell_type": "markdown",
   "id": "d7d11d1d",
   "metadata": {},
   "source": [
    "# Exercici 2\n",
    "#### Crea una funció que et generi un quadrat NxN de nombres aleatoris entre el 0 i el 100."
   ]
  },
  {
   "cell_type": "code",
   "execution_count": 92,
   "id": "d72a73dc",
   "metadata": {},
   "outputs": [],
   "source": [
    "import numpy as np\n",
    "from numpy import random\n",
    "\n",
    "def creaArrayQuadrat(k):\n",
    "    return random.randint(101, size=(k,k))\n"
   ]
  },
  {
   "cell_type": "code",
   "execution_count": 93,
   "id": "dfb7af1f",
   "metadata": {},
   "outputs": [
    {
     "name": "stdout",
     "output_type": "stream",
     "text": [
      "[[46 87 12 94  8 25 49 25 88 21]\n",
      " [98 54 81 80 97 17 71 53 59 56]\n",
      " [91 90 24 25 19 85  0 38 75 99]\n",
      " [27 39 54  5 41 15 93 49 25 78]\n",
      " [ 6 66 96 76  6  1 66 26  6  1]\n",
      " [33 77 65 50 19 27 37 47 81 54]\n",
      " [88 35 58 34 94 25 95 15 24 82]\n",
      " [28 26 84 55  1 91 45 81 75 24]\n",
      " [89 48  4 68 31 74 78 43 17 13]\n",
      " [81 71 90 14 48 22 95 30 58 31]]\n"
     ]
    }
   ],
   "source": [
    "mat=creaArrayQuadrat(10)\n",
    "print(mat)"
   ]
  },
  {
   "cell_type": "markdown",
   "id": "4b26b055",
   "metadata": {},
   "source": [
    "# Exercici 3\n",
    "#### Crea una funció que donada una taula de dues dimensions (NxM), et calculi els totals per fila i els totals per columna."
   ]
  },
  {
   "cell_type": "code",
   "execution_count": 111,
   "id": "9e832ca0",
   "metadata": {},
   "outputs": [],
   "source": [
    "import numpy as np\n",
    "from numpy import random\n",
    "\n",
    "def creaMatriu(columnes, files):\n",
    "    return random.randint(101, size=(columnes,files)) #Creem una matriu de \n",
    "\n",
    "def sumaFilesColumnes(matrix):\n",
    "    i=1\n",
    "    j=1\n",
    "    for x in matrix: #sumatori per files\n",
    "        print('Suma de la fila ',i, ' és: ',x.sum())\n",
    "        i+=1\n",
    "\n",
    "    for x in matrix.T: #sumatori per columnes, transposant la matriu\n",
    "        print('Suma de la columna ', j, ' és: ', x.sum())\n",
    "        j+=1"
   ]
  },
  {
   "cell_type": "code",
   "execution_count": 112,
   "id": "a1d6f9c7",
   "metadata": {},
   "outputs": [
    {
     "name": "stdout",
     "output_type": "stream",
     "text": [
      "[[76  2 70]\n",
      " [37 83 59]\n",
      " [69 83 98]\n",
      " [59 21 34]]\n"
     ]
    }
   ],
   "source": [
    "#Primer creem la matriu NxM que haurà de ser l'input de la funció sumaFilesColumnes\n",
    "matriu=creaMatriu(4,3)\n",
    "print(matriu)"
   ]
  },
  {
   "cell_type": "code",
   "execution_count": 113,
   "id": "2d0e36e6",
   "metadata": {},
   "outputs": [
    {
     "name": "stdout",
     "output_type": "stream",
     "text": [
      "Suma de la fila  1  és:  148\n",
      "Suma de la fila  2  és:  179\n",
      "Suma de la fila  3  és:  250\n",
      "Suma de la fila  4  és:  114\n",
      "Suma de la columna  1  és:  241\n",
      "Suma de la columna  2  és:  189\n",
      "Suma de la columna  3  és:  261\n"
     ]
    }
   ],
   "source": [
    "sumaFilesColumnes(matriu) # Després cridem la funció perqué calculi el sumatori per files i columnes"
   ]
  },
  {
   "cell_type": "markdown",
   "id": "a65369ee",
   "metadata": {},
   "source": [
    "# Exercici 4\n",
    "#### Implementa manualment una funció que calculi el coeficient de correlació. Informa-te'n sobre els seus usos i interpretació."
   ]
  },
  {
   "cell_type": "code",
   "execution_count": 5,
   "id": "a2620014",
   "metadata": {},
   "outputs": [],
   "source": [
    "import numpy as np\n",
    "\n",
    "def coefCorrelacio(matriu1, matriu2):\n",
    "    mitja_Matriu1=matriu1.mean()\n",
    "    mitja_Matriu2=matriu2.mean()\n",
    "    N=len(matriu1)\n",
    "    \n",
    "    print(mitja_Matriu1)\n",
    "    print(mitja_Matriu2)\n",
    "\n",
    "    #PEARSON CORRELATION\n",
    "    #quan traballem amb una mostra de població, la desviació Standard s'ha de dividir entre N-1\n",
    "    #per això s'ha de posar ddof=1\n",
    "\n",
    "    desvSt_Matriu1=np.std(matriu1, ddof=1) \n",
    "    desvSt_Matriu2=np.std(matriu2, ddof=1)\n",
    "    print(\"desvSt_Matriu1: \", (desvSt_Matriu1))\n",
    "    print(\"desvSt_Matriu2: \", (desvSt_Matriu2))\n",
    "\n",
    "    Total=0\n",
    "    for i in range(N):\n",
    "        Total=Total+((matriu1[i]-mitja_Matriu1)*(matriu2[i]-mitja_Matriu2))\n",
    "\n",
    "    correlacionPearson=(Total/(N-1))/(desvSt_Matriu1*desvSt_Matriu2)\n",
    "    print('Correlacion Pearson con Formula: '+str(correlacionPearson))\n"
   ]
  },
  {
   "cell_type": "code",
   "execution_count": 22,
   "id": "c4877013",
   "metadata": {},
   "outputs": [
    {
     "name": "stdout",
     "output_type": "stream",
     "text": [
      "1.757142857142857\n",
      "84.57142857142857\n",
      "desvSt_Matriu1:  0.1332559299136172\n",
      "desvSt_Matriu2:  19.688043265369153\n",
      "Correlacion Pearson con Formula: 0.8856597911605012\n"
     ]
    }
   ],
   "source": [
    "altura= np.array([1.67, 1.75, 1.55, 1.87, 1.81, 1.95, 1.70])\n",
    "peso= np.array([70, 83, 50, 95, 87, 110, 97])\n",
    "\n",
    "coefCorrelacio(altura, peso)"
   ]
  },
  {
   "cell_type": "markdown",
   "id": "74b9c6c5",
   "metadata": {},
   "source": [
    "#### Comprobació:"
   ]
  },
  {
   "cell_type": "code",
   "execution_count": 7,
   "id": "fe0a6746",
   "metadata": {},
   "outputs": [
    {
     "name": "stdout",
     "output_type": "stream",
     "text": [
      "(0.8856597911605013, 0.007976583953138237)\n",
      "[[1.         0.88565979]\n",
      " [0.88565979 1.        ]]\n"
     ]
    }
   ],
   "source": [
    "#Comprobació\n",
    "from scipy.stats.stats import pearsonr\n",
    "\n",
    "print(pearsonr(altura,peso))\n",
    "print(np.corrcoef(altura,peso))"
   ]
  }
 ],
 "metadata": {
  "kernelspec": {
   "display_name": "Python 3 (ipykernel)",
   "language": "python",
   "name": "python3"
  },
  "language_info": {
   "codemirror_mode": {
    "name": "ipython",
    "version": 3
   },
   "file_extension": ".py",
   "mimetype": "text/x-python",
   "name": "python",
   "nbconvert_exporter": "python",
   "pygments_lexer": "ipython3",
   "version": "3.9.12"
  }
 },
 "nbformat": 4,
 "nbformat_minor": 5
}
